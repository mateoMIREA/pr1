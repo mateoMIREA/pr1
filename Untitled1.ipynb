{
  "cells": [
    {
      "cell_type": "code",
      "execution_count": 10,
      "id": "3203ae3e",
      "metadata": {},
      "outputs": [],
      "source": [
        "import pandas as pd\n",
        "import numpy as np\n",
        "import matplotlib.pyplot as plt\n",
        "import seaborn as sns\n",
        "from sklearn.model_selection import train_test_split\n",
        "from sklearn.metrics import accuracy_score, confusion_matrix, f1_score\n",
        "from sklearn.neighbors import KNeighborsClassifier"
      ]
    },
    {
      "cell_type": "code",
      "execution_count": null,
      "id": "d3c87173",
      "metadata": {},
      "outputs": [
        {
          "name": "stdout",
          "output_type": "stream",
          "text": [
            "   Pregnancies  Glucose  BloodPressure  SkinThickness  Insulin   BMI  \\\n",
            "0            6      148             72             35        0  33.6   \n",
            "1            1       85             66             29        0  26.6   \n",
            "2            8      183             64              0        0  23.3   \n",
            "3            1       89             66             23       94  28.1   \n",
            "4            0      137             40             35      168  43.1   \n",
            "\n",
            "   DiabetesPedigreeFunction  Age  Outcome  \n",
            "0                     0.627   50        1  \n",
            "1                     0.351   31        0  \n",
            "2                     0.672   32        1  \n",
            "3                     0.167   21        0  \n",
            "4                     2.288   33        1  \n",
            "   Pregnancies  Glucose  BloodPressure  SkinThickness  Insulin   BMI  \\\n",
            "0            6    148.0           72.0           35.0    155.0  33.6   \n",
            "1            1     85.0           66.0           29.0    155.0  26.6   \n",
            "2            8    183.0           64.0           29.0    155.0  23.3   \n",
            "3            1     89.0           66.0           23.0     94.0  28.1   \n",
            "4            0    137.0           40.0           35.0    168.0  43.1   \n",
            "\n",
            "   DiabetesPedigreeFunction  Age  Outcome  \n",
            "0                     0.627   50        1  \n",
            "1                     0.351   31        0  \n",
            "2                     0.672   32        1  \n",
            "3                     0.167   21        0  \n",
            "4                     2.288   33        1  \n"
          ]
        }
      ],
      "source": [
        "raw_data = pd.read_csv('our_file.csv')\n",
        "df = raw_data.copy()\n",
        "print(raw_data.head())\n",
        "# здесь можно добавить блок замены пропущенных значений, если нужно, тот, что ниже - для тестовых данных\n",
        "zero_not_accepted = ['Glucose', 'BloodPressure', 'SkinThickness', 'BMI', 'Insulin']\n",
        "for col in zero_not_accepted:\n",
        "    df[col] = df[col].replace(0, np.nan)\n",
        "    mean = int(df[col].mean(skipna=True))\n",
        "    df[col] = df[col].replace(np.nan, mean)\n",
        "\n",
        "print(df.head())"
      ]
    },
    {
      "cell_type": "code",
      "execution_count": null,
      "id": "d12ab700",
      "metadata": {},
      "outputs": [
        {
          "name": "stdout",
          "output_type": "stream",
          "text": [
            "   Pregnancies   Glucose  BloodPressure  SkinThickness   Insulin       BMI  \\\n",
            "0     0.352941  0.670968       0.489796       0.304348  0.169471  0.314928   \n",
            "1     0.058824  0.264516       0.428571       0.239130  0.169471  0.171779   \n",
            "2     0.470588  0.896774       0.408163       0.239130  0.169471  0.104294   \n",
            "3     0.058824  0.290323       0.428571       0.173913  0.096154  0.202454   \n",
            "4     0.000000  0.600000       0.163265       0.304348  0.185096  0.509202   \n",
            "\n",
            "   DiabetesPedigreeFunction       Age  Outcome  \n",
            "0                  0.234415  0.483333      1.0  \n",
            "1                  0.116567  0.166667      0.0  \n",
            "2                  0.253629  0.183333      1.0  \n",
            "3                  0.038002  0.000000      0.0  \n",
            "4                  0.943638  0.200000      1.0  \n"
          ]
        }
      ],
      "source": [
        "def preprocess(column):\n",
        "    # нормализация, пуступают данные в столбце, возвращаются в диапазоне [0, 1]\n",
        "    min_val = column.min()\n",
        "    max_val = column.max()\n",
        "    return (column - min_val)/(max_val - min_val)\n",
        "\n",
        "for column_name in df.columns:\n",
        "    df[column_name] = preprocess(df[column_name])\n",
        "\n",
        "df.to_csv('our_file_normalized.csv', index=False) # перезапись файла с нормализованными данными\n",
        "print(df.head())"
      ]
    },
    {
      "cell_type": "code",
      "execution_count": null,
      "id": "66853d15",
      "metadata": {},
      "outputs": [],
      "source": [
        "# для X указываем все столбцы, кроме последнего\n",
        "# для y - только последний столбец\n",
        "X = df.iloc[: , 0:8]\n",
        "y = df.iloc[: , 8]\n",
        "X_train, X_test, y_train, y_test = train_test_split(X, y, test_size=0.2, random_state=42)"
      ]
    },
    {
      "cell_type": "code",
      "execution_count": null,
      "id": "70127617",
      "metadata": {},
      "outputs": [],
      "source": [
        "#num - количество соседей\n",
        "classifier = KNeighborsClassifier(n_neighbors = 11, p = 2, metric='euclidean') # загружаем классификатор\n",
        "classifier.fit(X_train, y_train) # обучаем модель\n",
        "y_pred = classifier.predict(X_test) # делаем предсказания\n"
      ]
    },
    {
      "cell_type": "code",
      "execution_count": 12,
      "id": "8ab74716",
      "metadata": {},
      "outputs": [
        {
          "name": "stdout",
          "output_type": "stream",
          "text": [
            "[[79 20]\n",
            " [20 35]]\n",
            "0.6363636363636364\n",
            "0.7402597402597403\n"
          ]
        }
      ],
      "source": [
        "cm = confusion_matrix(y_test, y_pred) # матрица ошибок\n",
        "print(cm) \n",
        "'''по главной диагонали сверху вниз - правильно предсказанные положительные и отрицательные исходы (0 и 1 для последнего столбца), \n",
        "на побочной диагонали снизу вверх - положительные, ошибочно предск. как отрицательные и наоборот'''\n",
        "\n",
        "print(f1_score(y_test, y_pred)) # f-метрика - насколько хорошо алгоритм определяет действительные и положительные и отрицательные, по этой метрике будем определять оптимальное число соседей\n",
        "print(accuracy_score(y_test, y_pred)) # оценка точности"
      ]
    }
  ],
  "metadata": {
    "kernelspec": {
      "display_name": "Python 3",
      "language": "python",
      "name": "python3"
    },
    "language_info": {
      "codemirror_mode": {
        "name": "ipython",
        "version": 3
      },
      "file_extension": ".py",
      "mimetype": "text/x-python",
      "name": "python",
      "nbconvert_exporter": "python",
      "pygments_lexer": "ipython3",
      "version": "3.13.7"
    },
    "orig_nbformat": 4
  },
  "nbformat": 4,
  "nbformat_minor": 5
}
